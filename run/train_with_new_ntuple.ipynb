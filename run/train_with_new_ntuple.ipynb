{
 "cells": [
  {
   "cell_type": "markdown",
   "metadata": {},
   "source": [
    "# Training with new ntuple"
   ]
  },
  {
   "cell_type": "markdown",
   "metadata": {},
   "source": [
    "# prepare"
   ]
  },
  {
   "cell_type": "markdown",
   "metadata": {},
   "source": [
    "## 1 - Load modules"
   ]
  },
  {
   "cell_type": "code",
   "execution_count": 1,
   "metadata": {},
   "outputs": [
    {
     "name": "stderr",
     "output_type": "stream",
     "text": [
      "Using TensorFlow backend.\n"
     ]
    },
    {
     "name": "stdout",
     "output_type": "stream",
     "text": [
      "Welcome to JupyROOT 6.18/00\n"
     ]
    }
   ],
   "source": [
    "import sys\n",
    "sys.path.append(\"..\") # add self-defined module in the parent path\n",
    "sys.path.append(\"../..\") # add self-defined module in the parent path\n",
    "import time\n",
    "\n",
    "from array import array\n",
    "import datetime\n",
    "import keras.backend\n",
    "from keras.models import Sequential, Model, load_model\n",
    "from keras.layers import Concatenate, Dense, Input\n",
    "from keras.layers.normalization import BatchNormalization\n",
    "from keras.optimizers import Adagrad, SGD, RMSprop, Adam\n",
    "from keras.wrappers.scikit_learn import KerasClassifier\n",
    "from sklearn.model_selection import GridSearchCV, train_test_split\n",
    "from sklearn.metrics import classification_report, accuracy_score, roc_curve, auc\n",
    "from sklearn import preprocessing\n",
    "import matplotlib as mpl\n",
    "import matplotlib.pyplot as plt\n",
    "import numpy as np\n",
    "\n",
    "from lfv_pdnn_code_v1.train.train_utils import *\n",
    "from lfv_pdnn_code_v1.common.common_utils import *"
   ]
  },
  {
   "cell_type": "markdown",
   "metadata": {},
   "source": [
    "## 2 - Load new array\n",
    "### a) load background samples"
   ]
  },
  {
   "cell_type": "code",
   "execution_count": 2,
   "metadata": {},
   "outputs": [
    {
     "name": "stdout",
     "output_type": "stream",
     "text": [
      "Loading new background array.\n",
      "xb_di_boson shape: (427882, 24)\n",
      "xb_top_quark shape: (1122168, 24)\n",
      "xb_w_jets shape: (2015589, 24)\n",
      "xb_z_ll shape: (128656, 24)\n",
      "\n",
      "Adding all background together.\n",
      "xb shape: (3694295, 24)\n",
      "\n",
      "Organizing new background with dict: xb_dict_new.\n",
      "\n",
      "Done.\n"
     ]
    }
   ],
   "source": [
    "# Set parent path to access data\n",
    "data_path = \"/mnt/e/data/new_ntuple/mc16a\"\n",
    "\n",
    "# Load\n",
    "print \"Loading new background array.\"\n",
    "# di_boson\n",
    "directory = data_path + \"/di_boson\"\n",
    "search_pattern = \"*.npy\"\n",
    "absolute_file_list, file_name_list = get_file_list(directory, search_pattern)\n",
    "xb_di_boson = np.array([])\n",
    "for path in absolute_file_list:\n",
    "    temp_array = np.load(path)\n",
    "    if len(temp_array) == 0:\n",
    "        continue\n",
    "    if len(xb_di_boson) == 0:\n",
    "        xb_di_boson = temp_array.copy()\n",
    "    else:\n",
    "        xb_di_boson = np.concatenate((xb_di_boson, temp_array))\n",
    "print \"xb_di_boson shape:\", xb_di_boson.shape\n",
    "# top_quark\n",
    "directory = data_path + \"/top_quark\"\n",
    "search_pattern = \"*.npy\"\n",
    "absolute_file_list, file_name_list = get_file_list(directory, search_pattern)\n",
    "xb_top_quark = np.array([])\n",
    "for path in absolute_file_list:\n",
    "    temp_array = np.load(path)\n",
    "    if len(temp_array) == 0:\n",
    "        continue\n",
    "    if len(xb_top_quark) == 0:\n",
    "        xb_top_quark = temp_array.copy()\n",
    "    else:\n",
    "        xb_top_quark = np.concatenate((xb_top_quark, temp_array))\n",
    "print \"xb_top_quark shape:\", xb_top_quark.shape\n",
    "# w_jets\n",
    "directory = data_path + \"/w_jets\"\n",
    "search_pattern = \"*.npy\"\n",
    "absolute_file_list, file_name_list = get_file_list(directory, search_pattern)\n",
    "xb_w_jets = np.array([])\n",
    "for path in absolute_file_list:\n",
    "    temp_array = np.load(path)\n",
    "    if len(temp_array) == 0:\n",
    "        continue\n",
    "    if len(xb_w_jets) == 0:\n",
    "        xb_w_jets = temp_array.copy()\n",
    "    else:\n",
    "        xb_w_jets = np.concatenate((xb_w_jets, temp_array))\n",
    "print \"xb_w_jets shape:\", xb_w_jets.shape\n",
    "# z_ll\n",
    "directory = data_path + \"/z_ll\"\n",
    "search_pattern = \"*.npy\"\n",
    "absolute_file_list, file_name_list = get_file_list(directory, search_pattern)\n",
    "xb_z_ll = np.array([])\n",
    "for path in absolute_file_list:\n",
    "    temp_array = np.load(path)\n",
    "    if len(temp_array) == 0:\n",
    "        continue\n",
    "    if len(xb_z_ll) == 0:\n",
    "        xb_z_ll = temp_array.copy()\n",
    "    else:\n",
    "        xb_z_ll = np.concatenate((xb_z_ll, temp_array))\n",
    "print \"xb_z_ll shape:\", xb_z_ll.shape\n",
    "\n",
    "# Add all background together\n",
    "print \"\\nAdding all background together.\"\n",
    "xb = np.concatenate((xb_di_boson, xb_top_quark, xb_w_jets, xb_z_ll))\n",
    "print \"xb shape:\", xb.shape\n",
    "\n",
    "# Organize with dict\n",
    "print \"\\nOrganizing new background with dict: xb_dict_new.\"\n",
    "xb_dict_new = {}\n",
    "xb_dict_new['di_boson'] = xb_di_boson\n",
    "xb_dict_new['top_quark'] = xb_top_quark\n",
    "xb_dict_new['w_jets'] = xb_w_jets\n",
    "xb_dict_new['z_ll'] = xb_z_ll\n",
    "xb_dict_new['all'] = xb\n",
    "\n",
    "print \"\\nDone.\""
   ]
  },
  {
   "cell_type": "markdown",
   "metadata": {},
   "source": [
    "### b) load signal samples"
   ]
  },
  {
   "cell_type": "code",
   "execution_count": 3,
   "metadata": {},
   "outputs": [
    {
     "name": "stdout",
     "output_type": "stream",
     "text": [
      "Loading new signal array.\n",
      "\n",
      "Organizing new signal with dict: xs_dict_new.\n",
      "adding 500GeV signal to xs_dict_new\n",
      "adding 2000GeV signal to xs_dict_new\n",
      "\n",
      "Done.\n"
     ]
    }
   ],
   "source": [
    "# Initialize\n",
    "mass_min = 5000\n",
    "mass_max = 0\n",
    "xs_studied = np.array([])\n",
    "mass_scan_map = [500, 2000]\n",
    "#mass_scan_map = [500]\n",
    "xs_dict_new = {}\n",
    "\n",
    "# Load\n",
    "print \"Loading new signal array.\"\n",
    "print \"\\nOrganizing new signal with dict: xs_dict_new.\"\n",
    "data_path = \"/mnt/e/data/new_ntuple/mc16a\"\n",
    "xs = np.array([])\n",
    "for i, mass in enumerate(mass_scan_map):\n",
    "    # load signal\n",
    "    xs_add = np.load(data_path + \"/signal/rpv_emu_{}GeV.npy\".format(mass))\n",
    "    xs_temp = np.load(data_path + \"/signal/rpv_etau_{}GeV.npy\".format(mass))\n",
    "    xs_add = np.concatenate((xs_add, xs_temp))\n",
    "    xs_temp = np.load(data_path + \"/signal/rpv_mutau_{}GeV.npy\".format(mass))\n",
    "    xs_add = np.concatenate((xs_add, xs_temp))\n",
    "    # add to dict xs_dict_new\n",
    "    print \"adding {}GeV signal to xs_dict_new\".format(mass)\n",
    "    xs_dict_new['{}GeV'.format(mass)] = xs_add\n",
    "    # add to full signals\n",
    "    if len(xs) == 0:\n",
    "        xs = xs_add.copy()\n",
    "    else:\n",
    "        xs = np.concatenate((xs, xs_add))\n",
    "xs_dict_new['all'] = xs\n",
    "\n",
    "print \"\\nDone.\""
   ]
  },
  {
   "cell_type": "markdown",
   "metadata": {},
   "source": [
    "## 2 - Load old array\n",
    "### a) load old background samples"
   ]
  },
  {
   "cell_type": "code",
   "execution_count": 4,
   "metadata": {},
   "outputs": [
    {
     "name": "stdout",
     "output_type": "stream",
     "text": [
      "Loading new background array.\n",
      "\n",
      "Organizing new background with dict: xb_dict_old.\n",
      "\n",
      "Done.\n"
     ]
    }
   ],
   "source": [
    "# Load\n",
    "print \"Loading new background array.\"\n",
    "xb_di_boson_old = np.load('/mnt/e/data/lfv/ntuples_last_run/TestData/data_npy/tree_bkg1.npy')\n",
    "xb_drell_yan_old = np.load('/mnt/e/data/lfv/ntuples_last_run/TestData/data_npy/tree_bkg2.npy')\n",
    "xb_top_quark_old = np.load('/mnt/e/data/lfv/ntuples_last_run/TestData/data_npy/tree_bkg3.npy')\n",
    "xb_w_jets_old = np.load('/mnt/e/data/lfv/ntuples_last_run/TestData/data_npy/tree_bkg4.npy')\n",
    "xb_z_ll_old = np.load('/mnt/e/data/lfv/ntuples_last_run/TestData/data_npy/tree_bkg5.npy')\n",
    "xb_old = np.concatenate((xb_di_boson_old, xb_drell_yan_old, xb_top_quark_old, xb_w_jets_old, xb_z_ll_old))\n",
    "\n",
    "# Organize with dict\n",
    "print \"\\nOrganizing new background with dict: xb_dict_old.\"\n",
    "xb_dict_old = {}\n",
    "xb_dict_old['di_boson'] = xb_di_boson_old\n",
    "xb_dict_old['drell_yan'] = xb_drell_yan_old\n",
    "xb_dict_old['top_quark'] = xb_top_quark_old\n",
    "xb_dict_old['w_jets'] = xb_w_jets_old\n",
    "xb_dict_old['z_ll'] = xb_z_ll_old\n",
    "xb_dict_old['all'] = xb_old\n",
    "\n",
    "print \"\\nDone.\""
   ]
  },
  {
   "cell_type": "markdown",
   "metadata": {},
   "source": [
    "### b) load old signal samples"
   ]
  },
  {
   "cell_type": "code",
   "execution_count": 5,
   "metadata": {},
   "outputs": [
    {
     "name": "stdout",
     "output_type": "stream",
     "text": [
      "Loading old signal array.\n",
      "\n",
      "Organizing old signal with dict: xs_dict_old.\n",
      "\n",
      "Done.\n"
     ]
    }
   ],
   "source": [
    "# Initialize\n",
    "mass_min = 5000\n",
    "mass_max = 0\n",
    "xs_old = np.array([])\n",
    "xs_dict_old = {}\n",
    "mass_scan_map = [5,6,7,8,9,10,11,12,13,14,15,16,17,18,19,20,22,24,26,28,30,35,40,45,50]\n",
    "\n",
    "# Load\n",
    "print \"Loading old signal array.\"\n",
    "print \"\\nOrganizing old signal with dict: xs_dict_old.\"\n",
    "for i, mass in enumerate(mass_scan_map):\n",
    "    # load signal\n",
    "    xs_add = np.load('/mnt/e/data/lfv/ntuples_last_run/train_array_0909/data_npy/emu/rpv_{}00GeV.npy'.format(mass))\n",
    "    xs_temp = np.load('/mnt/e/data/lfv/ntuples_last_run/train_array_0909/data_npy/etau/rpv_{}00GeV.npy'.format(mass))\n",
    "    xs_add = np.concatenate((xs_add, xs_temp))\n",
    "    xs_temp = np.load('/mnt/e/data/lfv/ntuples_last_run/train_array_0909/data_npy/mutau/rpv_{}00GeV.npy'.format(mass))\n",
    "    xs_add = np.concatenate((xs_add, xs_temp))\n",
    "    # add to dict xs_dict_new\n",
    "    #print \"adding {}00GeV signal to xs_dict_old\".format(mass)\n",
    "    xs_dict_old['{}00GeV'.format(mass)] = xs_add\n",
    "    # add to full signals\n",
    "    if len(xs_old) == 0:\n",
    "        xs_old = xs_add.copy()\n",
    "    else:\n",
    "        xs_old = np.concatenate((xs_old, xs_add))\n",
    "xs_dict_old['all'] = xs\n",
    "\n",
    "print \"\\nDone.\""
   ]
  },
  {
   "cell_type": "markdown",
   "metadata": {},
   "source": [
    "# Make plots"
   ]
  },
  {
   "cell_type": "markdown",
   "metadata": {},
   "source": [
    "## 1 - kinematic plots for emu channel"
   ]
  },
  {
   "cell_type": "code",
   "execution_count": null,
   "metadata": {},
   "outputs": [],
   "source": [
    "MakePlots(xs_studied, xb, 0, bins = 50, range = (0, 3000)  , density = True,\n",
    "          xlabel = \"di-Lepton mass / GeV\", ylabel = \"events\", show_plot = True)\n",
    "\n",
    "MakePlots(xs_emu, xb_emu, 1, bins = 50, range = (0, 1000)  , density = True,\n",
    "          xlabel=\"Ele_pt / GeV\"          , ylabel=\"Events\"  , show_plot = True)\n",
    "MakePlots(xs_emu, xb_emu, 2, bins = 50, range = (-3, 3)    , density = True,\n",
    "          xlabel=\"Ele_eta\"               , ylabel=\"Events\"  , show_plot = True)\n",
    "MakePlots(xs_emu, xb_emu, 3, bins = 50, range = (-3.2, 3.2), density = True,\n",
    "          xlabel=\"Ele_phi\"               , ylabel=\"Events\"  , show_plot = True)\n",
    "MakePlots(xs_emu, xb_emu, 5, bins = 50, range = (0, 5000)  , density = True,\n",
    "          xlabel=\"Mu_pt / GeV\"           , ylabel=\"Events\"  , show_plot = True)\n",
    "MakePlots(xs_emu, xb_emu, 6, bins = 50, range = (-3, 3)    , density = True,\n",
    "          xlabel=\"Mu_eta\"                , ylabel=\"Events\"  , show_plot = True)\n",
    "MakePlots(xs_emu, xb_emu, 7, bins = 50, range = (-3.2, 3.2), density = True,\n",
    "          xlabel=\"Mu_phi\"                , ylabel=\"Events\"  , show_plot = True)\n",
    "\n",
    "MakePlots(xs_emu, xb_emu, 15, bins = 50, range = (0, 1000)  , density = True,\n",
    "          xlabel=\"di-Lepton_pt\"          , ylabel=\"Events\"  , show_plot = True)\n",
    "MakePlots(xs_emu, xb_emu, 16, bins = 50, range = (-3, 3)    , density = True,\n",
    "          xlabel=\"di-Lepton_eta\"         , ylabel=\"Events\"  , show_plot = True)\n",
    "MakePlots(xs_emu, xb_emu, 17, bins = 50, range = (-3.2, 3.2), density = True,\n",
    "          xlabel=\"di-Lepton_phi\"         , ylabel=\"Events\"  , show_plot = True)\n",
    "MakePlots(xs_emu, xb_emu, 18, bins = 50, range = (-3.2, 3.2), density = True,\n",
    "          xlabel=\"di-Lepton_Dphi\"        , ylabel=\"Events\"  , show_plot = True)\n",
    "MakePlots(xs_emu, xb_emu, 18, bins = 50, range = (0, 5)     , density = True,\n",
    "          xlabel=\"di-Lepton_DR\"          , ylabel=\"Events\"  , show_plot = True)"
   ]
  },
  {
   "cell_type": "markdown",
   "metadata": {},
   "source": [
    "# Training Test"
   ]
  },
  {
   "cell_type": "markdown",
   "metadata": {},
   "source": [
    "## 1 - Train with individual mass point (new vs old)"
   ]
  },
  {
   "cell_type": "markdown",
   "metadata": {},
   "source": [
    "### a) mass = 500 GeV"
   ]
  },
  {
   "cell_type": "markdown",
   "metadata": {},
   "source": [
    "* old ntuple"
   ]
  },
  {
   "cell_type": "code",
   "execution_count": 7,
   "metadata": {},
   "outputs": [
    {
     "name": "stdout",
     "output_type": "stream",
     "text": [
      "Training emu.\n",
      "Loading signal.\n",
      "mass range: 472.9450298287913 to 527.0549701712088\n",
      "Loading background.\n",
      "sig events quantity: 8284\n",
      "bkg events quantity: 5912\n",
      "train data shape: (11356, 12)\n",
      "test data shape: (2840, 12)\n",
      "Train on 8517 samples, validate on 2839 samples\n",
      "Epoch 1/30\n",
      "8517/8517 [==============================] - 2s 278us/step - loss: 0.0829 - acc: 0.7021 - val_loss: 0.1572 - val_acc: 0.4484\n",
      "Epoch 2/30\n",
      "8517/8517 [==============================] - 1s 109us/step - loss: 0.0731 - acc: 0.7413 - val_loss: 0.1059 - val_acc: 0.7460\n",
      "Epoch 3/30\n",
      "8517/8517 [==============================] - 1s 108us/step - loss: 0.0713 - acc: 0.7463 - val_loss: 0.0825 - val_acc: 0.7242\n",
      "Epoch 4/30\n",
      "8517/8517 [==============================] - 1s 112us/step - loss: 0.0677 - acc: 0.7552 - val_loss: 0.0827 - val_acc: 0.7274\n",
      "Epoch 5/30\n",
      "8517/8517 [==============================] - 1s 115us/step - loss: 0.0688 - acc: 0.7509 - val_loss: 0.1243 - val_acc: 0.5970\n",
      "Epoch 6/30\n",
      "8517/8517 [==============================] - 1s 116us/step - loss: 0.0683 - acc: 0.7524 - val_loss: 0.0918 - val_acc: 0.6291\n",
      "Epoch 7/30\n",
      "8517/8517 [==============================] - 1s 114us/step - loss: 0.0666 - acc: 0.7533 - val_loss: 0.0928 - val_acc: 0.7298\n",
      "Epoch 8/30\n",
      "8517/8517 [==============================] - 1s 133us/step - loss: 0.0651 - acc: 0.7624 - val_loss: 0.0922 - val_acc: 0.7534\n",
      "Epoch 9/30\n",
      "8517/8517 [==============================] - 1s 118us/step - loss: 0.0649 - acc: 0.7594 - val_loss: 0.0961 - val_acc: 0.7524\n",
      "Epoch 10/30\n",
      "8517/8517 [==============================] - 1s 118us/step - loss: 0.0633 - acc: 0.7619 - val_loss: 0.0926 - val_acc: 0.7612\n",
      "Epoch 11/30\n",
      "8517/8517 [==============================] - 1s 119us/step - loss: 0.0616 - acc: 0.7656 - val_loss: 0.0896 - val_acc: 0.7728\n",
      "Epoch 12/30\n",
      "8517/8517 [==============================] - 1s 122us/step - loss: 0.0630 - acc: 0.7640 - val_loss: 0.0767 - val_acc: 0.7777\n",
      "Epoch 13/30\n",
      "8517/8517 [==============================] - 1s 118us/step - loss: 0.0623 - acc: 0.7698 - val_loss: 0.0851 - val_acc: 0.7640\n",
      "Epoch 14/30\n",
      "8517/8517 [==============================] - 1s 137us/step - loss: 0.0619 - acc: 0.7707 - val_loss: 0.0959 - val_acc: 0.6520\n",
      "Epoch 15/30\n",
      "8517/8517 [==============================] - 1s 122us/step - loss: 0.0615 - acc: 0.7741 - val_loss: 0.0900 - val_acc: 0.7710\n",
      "Epoch 16/30\n",
      "8517/8517 [==============================] - 1s 136us/step - loss: 0.0615 - acc: 0.7713 - val_loss: 0.0865 - val_acc: 0.7291\n",
      "Epoch 17/30\n",
      "8517/8517 [==============================] - 1s 125us/step - loss: 0.0599 - acc: 0.7708 - val_loss: 0.0830 - val_acc: 0.7679\n",
      "Epoch 18/30\n",
      "8517/8517 [==============================] - 1s 122us/step - loss: 0.0586 - acc: 0.7723 - val_loss: 0.0785 - val_acc: 0.7661\n",
      "Epoch 19/30\n",
      "8517/8517 [==============================] - 1s 123us/step - loss: 0.0589 - acc: 0.7716 - val_loss: 0.0795 - val_acc: 0.7781\n",
      "Epoch 20/30\n",
      "8517/8517 [==============================] - 1s 137us/step - loss: 0.0602 - acc: 0.7715 - val_loss: 0.0867 - val_acc: 0.7513\n",
      "Epoch 21/30\n",
      "8517/8517 [==============================] - 1s 124us/step - loss: 0.0604 - acc: 0.7732 - val_loss: 0.0870 - val_acc: 0.7136\n",
      "Epoch 22/30\n",
      "8517/8517 [==============================] - 1s 127us/step - loss: 0.0611 - acc: 0.7674 - val_loss: 0.1008 - val_acc: 0.7559\n",
      "Epoch 23/30\n",
      "8517/8517 [==============================] - 1s 126us/step - loss: 0.0621 - acc: 0.7659 - val_loss: 0.0749 - val_acc: 0.7393\n",
      "Epoch 24/30\n",
      "8517/8517 [==============================] - 1s 137us/step - loss: 0.0592 - acc: 0.7747 - val_loss: 0.0860 - val_acc: 0.7693\n",
      "Epoch 25/30\n",
      "8517/8517 [==============================] - 1s 134us/step - loss: 0.0596 - acc: 0.7734 - val_loss: 0.0865 - val_acc: 0.6802\n",
      "Epoch 26/30\n",
      "8517/8517 [==============================] - 1s 152us/step - loss: 0.0581 - acc: 0.7726 - val_loss: 0.0846 - val_acc: 0.7802\n",
      "Epoch 27/30\n",
      "8517/8517 [==============================] - 1s 125us/step - loss: 0.0594 - acc: 0.7734 - val_loss: 0.1472 - val_acc: 0.7235\n",
      "Epoch 28/30\n",
      "8517/8517 [==============================] - 1s 129us/step - loss: 0.0620 - acc: 0.7592 - val_loss: 0.0890 - val_acc: 0.7284\n",
      "Epoch 29/30\n",
      "8517/8517 [==============================] - 1s 125us/step - loss: 0.0597 - acc: 0.7732 - val_loss: 0.0862 - val_acc: 0.7672\n",
      "Epoch 30/30\n",
      "8517/8517 [==============================] - 1s 127us/step - loss: 0.0606 - acc: 0.7675 - val_loss: 0.0794 - val_acc: 0.7869\n",
      "('Test loss:', 0.06698222191820682)\n",
      "('Test accuracy:', 0.7704225352112676)\n"
     ]
    },
    {
     "data": {
      "image/png": "[encoded data removed]",
      "text/plain": [
       "<Figure size 432x288 with 1 Axes>"
      ]
     },
     "metadata": {
      "needs_background": "light"
     },
     "output_type": "display_data"
    },
    {
     "data": {
      "image/png": "[encoded data removed]",
      "text/plain": [
       "<Figure size 432x288 with 1 Axes>"
      ]
     },
     "metadata": {
      "needs_background": "light"
     },
     "output_type": "display_data"
    },
    {
     "data": {
      "image/png": "[encoded data removed]",
      "text/plain": [
       "<Figure size 432x288 with 1 Axes>"
      ]
     },
     "metadata": {
      "needs_background": "light"
     },
     "output_type": "display_data"
    },
    {
     "data": {
      "image/png": "[encoded data removed]",
      "text/plain": [
       "<Figure size 432x288 with 1 Axes>"
      ]
     },
     "metadata": {
      "needs_background": "light"
     },
     "output_type": "display_data"
    },
    {
     "name": "stdout",
     "output_type": "stream",
     "text": [
      "roc for sig and bkg\n"
     ]
    },
    {
     "data": {
      "image/png": "[encoded data removed]",
      "text/plain": [
       "<Figure size 432x288 with 1 Axes>"
      ]
     },
     "metadata": {
      "needs_background": "light"
     },
     "output_type": "display_data"
    },
    {
     "name": "stdout",
     "output_type": "stream",
     "text": [
      "auc for train: 0.8504059451899088\n",
      "auc for test:  0.8280779153069204\n",
      "\n",
      "Done.\n"
     ]
    }
   ],
   "source": [
    "selected_features = [0, 1, 2, 3, 5, 6, 7, 15, 16, 17, 18, 19]\n",
    "\n",
    "# emu\n",
    "print \"Training emu.\"\n",
    "# get emu\n",
    "print \"Loading signal.\"\n",
    "xs_emu = modify_array(xs_dict_old['500GeV'], weight_id = -1, select_channel = True, channel_id = -4,\n",
    "                      norm = True, shuffle = True, shuffle_seed = int(time.time()))\n",
    "mass_sigma = get_mass_range(xs_emu[:, 0], xs_emu[:, -1])\n",
    "mass_min = 500 - mass_sigma\n",
    "mass_max = 500 + mass_sigma\n",
    "print \"mass range:\", mass_min, \"to\", mass_max\n",
    "print \"Loading background.\"\n",
    "xb_emu = modify_array(xb_dict_old['all'], weight_id = -1, remove_negative_weight = True, select_channel = True, channel_id = -4,\n",
    "                      select_mass = True, mass_id = 0, mass_min = mass_min, mass_max = mass_max,\n",
    "                      reset_mass = True, reset_mass_array = xs_emu, reset_mass_id = 0,\n",
    "                      norm = True, shuffle = True)\n",
    "# set model\n",
    "node_num = 300\n",
    "model_deep = Sequential()\n",
    "model_deep.add(Dense(node_num, kernel_initializer='uniform', input_dim = len(selected_features)))\n",
    "model_deep.add(BatchNormalization())\n",
    "model_deep.add(Dense(node_num, kernel_initializer=\"glorot_normal\", activation=\"relu\"))\n",
    "model_deep.add(BatchNormalization())\n",
    "model_deep.add(Dense(node_num, kernel_initializer=\"glorot_normal\", activation=\"relu\"))\n",
    "model_deep.add(BatchNormalization())\n",
    "model_deep.add(Dense(node_num, kernel_initializer=\"glorot_normal\", activation=\"relu\"))\n",
    "model_deep.add(BatchNormalization())\n",
    "model_deep.add(Dense(node_num, kernel_initializer=\"glorot_normal\", activation=\"relu\"))\n",
    "model_deep.add(BatchNormalization())\n",
    "model_deep.add(Dense(node_num, kernel_initializer=\"glorot_normal\", activation=\"relu\"))\n",
    "model_deep.add(BatchNormalization())\n",
    "model_deep.add(Dense(1, kernel_initializer=\"glorot_uniform\", activation=\"sigmoid\"))\n",
    "# set loss, optimizer and evaluation metrics\n",
    "model_deep.compile(loss=\"binary_crossentropy\", optimizer=SGD(lr=0.025, decay=1e-6), metrics=[\"accuracy\"])\n",
    "\n",
    "# get part of signal events\n",
    "print \"sig events quantity:\", len(xs_emu)\n",
    "print \"bkg events quantity:\", len(xb_emu)\n",
    "\n",
    "# get training data\n",
    "x_emu_train, x_emu_test, y_emu_train, y_emu_test, xs_emu_test, xb_emu_test = \\\n",
    "split_and_combine(xs_emu, xb_emu, shuffle_before_return = True)\n",
    "# get test data\n",
    "#x1, x_emu_test, y1, y_emu_test, xs_emu_test, xb_emu_test = \\\n",
    "#split_and_combine(xs_emu_part, xb_emu, shuffle_before_return = True)\n",
    "\n",
    "# select features wanted\n",
    "x_emu_train_selected = get_part_feature(x_emu_train, selected_features)\n",
    "x_emu_test_selected = get_part_feature(x_emu_test, selected_features)\n",
    "print \"train data shape:\", x_emu_train_selected.shape\n",
    "print \"test data shape:\", x_emu_test_selected.shape \n",
    "\n",
    "# train the model\n",
    "train_history = model_deep.fit(x_emu_train_selected, y_emu_train, batch_size = 100, epochs = 30,\n",
    "                validation_split = 0.25 , sample_weight = x_emu_train[:, -1], verbose = 1)\n",
    "score = model_deep.evaluate(x_emu_test_selected, y_emu_test, verbose=0, sample_weight = x_emu_test[:, -1])\n",
    "print('Test loss:', score[0])\n",
    "print('Test accuracy:', score[1])\n",
    "\n",
    "# load test (cross validation) data\n",
    "xs_emu_test_selected = get_part_feature(xs_emu, selected_features) # use full sample for validation\n",
    "xb_emu_test_selected = get_part_feature(xb_emu, selected_features) #\n",
    "\n",
    "# display scores\n",
    "plt.hist(xs_emu[:, 0], bins = 100, weights = xs_emu[:, -1], range = (0, 10000), histtype='step', label='signal', density=True)\n",
    "plt.xlabel(\"mass\")\n",
    "plt.ylabel(\"events\")\n",
    "plt.show()\n",
    "PlotScores(xs_emu_test_selected, xb_emu_test_selected, model_deep, bins = 100, range = (0, 1), density = True)\n",
    "\n",
    "# summarize history for accuracy\n",
    "plt.plot(train_history.history['acc'])\n",
    "plt.plot(train_history.history['val_acc'])\n",
    "plt.title('model accuracy')\n",
    "plt.ylabel('accuracy')\n",
    "plt.ylim((0, 1))\n",
    "plt.xlabel('epoch')\n",
    "plt.legend(['train', 'val'], loc='upper center')\n",
    "plt.grid()\n",
    "plt.show()\n",
    "\n",
    "# summarize history for loss\n",
    "plt.plot(train_history.history['loss'])\n",
    "plt.plot(train_history.history['val_loss'])\n",
    "plt.title('model loss')\n",
    "plt.ylabel('loss')\n",
    "plt.xlabel('epoch')\n",
    "plt.legend(['train', 'val'], loc='upper center')\n",
    "plt.grid()\n",
    "plt.show()\n",
    "\n",
    "# make roc plots for signal\n",
    "print \"roc for sig and bkg\"\n",
    "plt.ylabel('tpr')\n",
    "plt.xlabel('fpr')\n",
    "predictions_dm = model_deep.predict(get_part_feature(x_emu_train, selected_features))\n",
    "fpr_dm, tpr_dm, threshold = roc_curve(y_emu_train, predictions_dm)\n",
    "plt.plot(fpr_dm, tpr_dm)\n",
    "predictions_dm = model_deep.predict(get_part_feature(x_emu_test, selected_features))\n",
    "fpr_dm_test, tpr_dm_test, threshold_test = roc_curve(y_emu_test, predictions_dm)\n",
    "plt.plot(fpr_dm_test, tpr_dm_test)\n",
    "plt.legend(['train', 'test'], loc='lower right')\n",
    "plt.grid()\n",
    "plt.show()\n",
    "print \"auc for train:\", auc(fpr_dm, tpr_dm)\n",
    "print \"auc for test: \", auc(fpr_dm_test, tpr_dm_test)\n",
    "\n",
    "print \"\\nDone.\""
   ]
  },
  {
   "cell_type": "markdown",
   "metadata": {},
   "source": [
    "* new ntuple"
   ]
  },
  {
   "cell_type": "code",
   "execution_count": 8,
   "metadata": {},
   "outputs": [
    {
     "name": "stdout",
     "output_type": "stream",
     "text": [
      "Training emu.\n",
      "Loading signal.\n",
      "mass range: 474.0537838949137 to 525.9462161050864\n",
      "Loading background.\n",
      "sig events quantity: 5660\n",
      "bkg events quantity: 8422\n",
      "train data shape: (11265, 12)\n",
      "test data shape: (2817, 12)\n",
      "Train on 8448 samples, validate on 2817 samples\n",
      "Epoch 1/30\n",
      "8448/8448 [==============================] - 3s 297us/step - loss: 0.0739 - acc: 0.7601 - val_loss: 0.1052 - val_acc: 0.6755\n",
      "Epoch 2/30\n",
      "8448/8448 [==============================] - 1s 109us/step - loss: 0.0676 - acc: 0.7772 - val_loss: 0.0789 - val_acc: 0.7519\n",
      "Epoch 3/30\n",
      "8448/8448 [==============================] - 1s 119us/step - loss: 0.0661 - acc: 0.7823 - val_loss: 0.0713 - val_acc: 0.7430\n",
      "Epoch 4/30\n",
      "8448/8448 [==============================] - 1s 120us/step - loss: 0.0652 - acc: 0.7827 - val_loss: 0.0817 - val_acc: 0.6770\n",
      "Epoch 5/30\n",
      "8448/8448 [==============================] - 1s 109us/step - loss: 0.0643 - acc: 0.7865 - val_loss: 0.0757 - val_acc: 0.7249\n",
      "Epoch 6/30\n",
      "8448/8448 [==============================] - 1s 114us/step - loss: 0.0632 - acc: 0.7910 - val_loss: 0.0650 - val_acc: 0.7888\n",
      "Epoch 7/30\n",
      "8448/8448 [==============================] - 1s 111us/step - loss: 0.0631 - acc: 0.7955 - val_loss: 0.0676 - val_acc: 0.7696\n",
      "Epoch 8/30\n",
      "8448/8448 [==============================] - 1s 153us/step - loss: 0.0628 - acc: 0.7893 - val_loss: 0.0665 - val_acc: 0.7799\n",
      "Epoch 9/30\n",
      "8448/8448 [==============================] - 1s 119us/step - loss: 0.0620 - acc: 0.7932 - val_loss: 0.0768 - val_acc: 0.7618\n",
      "Epoch 10/30\n",
      "8448/8448 [==============================] - 1s 114us/step - loss: 0.0624 - acc: 0.7925 - val_loss: 0.0743 - val_acc: 0.7313\n",
      "Epoch 11/30\n",
      "8448/8448 [==============================] - 1s 138us/step - loss: 0.0623 - acc: 0.7971 - val_loss: 0.0762 - val_acc: 0.7558\n",
      "Epoch 12/30\n",
      "8448/8448 [==============================] - 1s 116us/step - loss: 0.0617 - acc: 0.7945 - val_loss: 0.0663 - val_acc: 0.7796\n",
      "Epoch 13/30\n",
      "8448/8448 [==============================] - 1s 120us/step - loss: 0.0611 - acc: 0.7985 - val_loss: 0.0679 - val_acc: 0.7583\n",
      "Epoch 14/30\n",
      "8448/8448 [==============================] - 1s 123us/step - loss: 0.0620 - acc: 0.7919 - val_loss: 0.0656 - val_acc: 0.7799\n",
      "Epoch 15/30\n",
      "8448/8448 [==============================] - 1s 120us/step - loss: 0.0617 - acc: 0.7976 - val_loss: 0.0666 - val_acc: 0.7838\n",
      "Epoch 16/30\n",
      "8448/8448 [==============================] - 1s 121us/step - loss: 0.0606 - acc: 0.7995 - val_loss: 0.0648 - val_acc: 0.7799\n",
      "Epoch 17/30\n",
      "8448/8448 [==============================] - 1s 121us/step - loss: 0.0607 - acc: 0.7994 - val_loss: 0.0659 - val_acc: 0.7891\n",
      "Epoch 18/30\n",
      "8448/8448 [==============================] - 1s 125us/step - loss: 0.0602 - acc: 0.7989 - val_loss: 0.0672 - val_acc: 0.7543\n",
      "Epoch 19/30\n",
      "8448/8448 [==============================] - 1s 133us/step - loss: 0.0607 - acc: 0.7964 - val_loss: 0.0640 - val_acc: 0.7827\n",
      "Epoch 20/30\n",
      "8448/8448 [==============================] - 1s 127us/step - loss: 0.0609 - acc: 0.7995 - val_loss: 0.0682 - val_acc: 0.7600\n",
      "Epoch 21/30\n",
      "8448/8448 [==============================] - 1s 124us/step - loss: 0.0605 - acc: 0.7978 - val_loss: 0.0657 - val_acc: 0.7913\n",
      "Epoch 22/30\n",
      "8448/8448 [==============================] - 1s 126us/step - loss: 0.0594 - acc: 0.8018 - val_loss: 0.0634 - val_acc: 0.7827\n",
      "Epoch 23/30\n",
      "8448/8448 [==============================] - 1s 126us/step - loss: 0.0596 - acc: 0.7973 - val_loss: 0.0644 - val_acc: 0.7859\n",
      "Epoch 24/30\n",
      "8448/8448 [==============================] - 1s 124us/step - loss: 0.0603 - acc: 0.7981 - val_loss: 0.0662 - val_acc: 0.7728\n",
      "Epoch 25/30\n",
      "8448/8448 [==============================] - 1s 138us/step - loss: 0.0594 - acc: 0.8003 - val_loss: 0.0667 - val_acc: 0.7742\n",
      "Epoch 26/30\n",
      "8448/8448 [==============================] - 1s 124us/step - loss: 0.0600 - acc: 0.8035 - val_loss: 0.0637 - val_acc: 0.7764\n",
      "Epoch 27/30\n",
      "8448/8448 [==============================] - 1s 127us/step - loss: 0.0597 - acc: 0.8053 - val_loss: 0.0632 - val_acc: 0.7923\n",
      "Epoch 28/30\n",
      "8448/8448 [==============================] - 1s 128us/step - loss: 0.0594 - acc: 0.8041 - val_loss: 0.0644 - val_acc: 0.7728\n",
      "Epoch 29/30\n",
      "8448/8448 [==============================] - 1s 128us/step - loss: 0.0587 - acc: 0.8049 - val_loss: 0.0647 - val_acc: 0.7746\n",
      "Epoch 30/30\n",
      "8448/8448 [==============================] - 1s 126us/step - loss: 0.0592 - acc: 0.8034 - val_loss: 0.0635 - val_acc: 0.7934\n",
      "('Test loss:', 0.06336853283771204)\n",
      "('Test accuracy:', 0.805111821086262)\n"
     ]
    },
    {
     "data": {
      "image/png": "[encoded data removed]",
      "text/plain": [
       "<Figure size 432x288 with 1 Axes>"
      ]
     },
     "metadata": {
      "needs_background": "light"
     },
     "output_type": "display_data"
    },
    {
     "data": {
      "image/png": "[encoded data removed]",
      "text/plain": [
       "<Figure size 432x288 with 1 Axes>"
      ]
     },
     "metadata": {
      "needs_background": "light"
     },
     "output_type": "display_data"
    },
    {
     "data": {
      "image/png": "[encoded data removed]",
      "text/plain": [
       "<Figure size 432x288 with 1 Axes>"
      ]
     },
     "metadata": {
      "needs_background": "light"
     },
     "output_type": "display_data"
    },
    {
     "data": {
      "image/png": "[encoded data removed]",
      "text/plain": [
       "<Figure size 432x288 with 1 Axes>"
      ]
     },
     "metadata": {
      "needs_background": "light"
     },
     "output_type": "display_data"
    },
    {
     "name": "stdout",
     "output_type": "stream",
     "text": [
      "roc for sig and bkg\n"
     ]
    },
    {
     "data": {
      "image/png": "[encoded data removed]",
      "text/plain": [
       "<Figure size 432x288 with 1 Axes>"
      ]
     },
     "metadata": {
      "needs_background": "light"
     },
     "output_type": "display_data"
    },
    {
     "name": "stdout",
     "output_type": "stream",
     "text": [
      "auc for train: 0.8805408046697448\n",
      "auc for test:  0.8797218231957304\n",
      "\n",
      "Done.\n"
     ]
    }
   ],
   "source": [
    "selected_features = [0, 1, 2, 3, 5, 6, 7, 15, 16, 17, 18, 19]\n",
    "\n",
    "# emu\n",
    "print \"Training emu.\"\n",
    "# get emu\n",
    "print \"Loading signal.\"\n",
    "xs_emu = modify_array(xs_dict_new['500GeV'], weight_id = -1, select_channel = True, channel_id = -4,\n",
    "                      norm = True, shuffle = True, shuffle_seed = int(time.time()))\n",
    "mass_sigma = get_mass_range(xs_emu[:, 0], xs_emu[:, -1])\n",
    "mass_min = 500 - mass_sigma\n",
    "mass_max = 500 + mass_sigma\n",
    "print \"mass range:\", mass_min, \"to\", mass_max\n",
    "print \"Loading background.\"\n",
    "xb_emu = modify_array(xb_dict_new['all'], weight_id = -1, remove_negative_weight = True, select_channel = True, channel_id = -4,\n",
    "                      select_mass = True, mass_id = 0, mass_min = mass_min, mass_max = mass_max,\n",
    "                      reset_mass = True, reset_mass_array = xs_emu, reset_mass_id = 0,\n",
    "                      norm = True, shuffle = True)\n",
    "# set model\n",
    "node_num = 300\n",
    "model_deep = Sequential()\n",
    "model_deep.add(Dense(node_num, kernel_initializer='uniform', input_dim = len(selected_features)))\n",
    "model_deep.add(BatchNormalization())\n",
    "model_deep.add(Dense(node_num, kernel_initializer=\"glorot_normal\", activation=\"relu\"))\n",
    "model_deep.add(BatchNormalization())\n",
    "model_deep.add(Dense(node_num, kernel_initializer=\"glorot_normal\", activation=\"relu\"))\n",
    "model_deep.add(BatchNormalization())\n",
    "model_deep.add(Dense(node_num, kernel_initializer=\"glorot_normal\", activation=\"relu\"))\n",
    "model_deep.add(BatchNormalization())\n",
    "model_deep.add(Dense(node_num, kernel_initializer=\"glorot_normal\", activation=\"relu\"))\n",
    "model_deep.add(BatchNormalization())\n",
    "model_deep.add(Dense(node_num, kernel_initializer=\"glorot_normal\", activation=\"relu\"))\n",
    "model_deep.add(BatchNormalization())\n",
    "model_deep.add(Dense(1, kernel_initializer=\"glorot_uniform\", activation=\"sigmoid\"))\n",
    "# set loss, optimizer and evaluation metrics\n",
    "model_deep.compile(loss=\"binary_crossentropy\", optimizer=SGD(lr=0.025, decay=1e-6), metrics=[\"accuracy\"])\n",
    "\n",
    "# get part of signal events\n",
    "print \"sig events quantity:\", len(xs_emu)\n",
    "print \"bkg events quantity:\", len(xb_emu)\n",
    "\n",
    "# get training data\n",
    "x_emu_train, x_emu_test, y_emu_train, y_emu_test, xs_emu_test, xb_emu_test = \\\n",
    "split_and_combine(xs_emu, xb_emu, shuffle_before_return = True)\n",
    "# get test data\n",
    "#x1, x_emu_test, y1, y_emu_test, xs_emu_test, xb_emu_test = \\\n",
    "#split_and_combine(xs_emu_part, xb_emu, shuffle_before_return = True)\n",
    "\n",
    "# select features wanted\n",
    "x_emu_train_selected = get_part_feature(x_emu_train, selected_features)\n",
    "x_emu_test_selected = get_part_feature(x_emu_test, selected_features)\n",
    "print \"train data shape:\", x_emu_train_selected.shape\n",
    "print \"test data shape:\", x_emu_test_selected.shape \n",
    "\n",
    "# train the model\n",
    "train_history = model_deep.fit(x_emu_train_selected, y_emu_train, batch_size = 100, epochs = 30,\n",
    "                validation_split = 0.25 , sample_weight = x_emu_train[:, -1], verbose = 1)\n",
    "score = model_deep.evaluate(x_emu_test_selected, y_emu_test, verbose=0, sample_weight = x_emu_test[:, -1])\n",
    "print('Test loss:', score[0])\n",
    "print('Test accuracy:', score[1])\n",
    "\n",
    "# load test (cross validation) data\n",
    "xs_emu_test_selected = get_part_feature(xs_emu, selected_features) # use full sample for validation\n",
    "xb_emu_test_selected = get_part_feature(xb_emu, selected_features) #\n",
    "\n",
    "# display scores\n",
    "plt.hist(xs_emu[:, 0], bins = 100, weights = xs_emu[:, -1], range = (0, 10000), histtype='step', label='signal', density=True)\n",
    "plt.xlabel(\"mass\")\n",
    "plt.ylabel(\"events\")\n",
    "plt.show()\n",
    "PlotScores(xs_emu_test_selected, xb_emu_test_selected, model_deep, bins = 100, range = (0, 1), density = True)\n",
    "\n",
    "# summarize history for accuracy\n",
    "plt.plot(train_history.history['acc'])\n",
    "plt.plot(train_history.history['val_acc'])\n",
    "plt.title('model accuracy')\n",
    "plt.ylabel('accuracy')\n",
    "plt.ylim((0, 1))\n",
    "plt.xlabel('epoch')\n",
    "plt.legend(['train', 'val'], loc='upper center')\n",
    "plt.grid()\n",
    "plt.show()\n",
    "\n",
    "# summarize history for loss\n",
    "plt.plot(train_history.history['loss'])\n",
    "plt.plot(train_history.history['val_loss'])\n",
    "plt.title('model loss')\n",
    "plt.ylabel('loss')\n",
    "plt.xlabel('epoch')\n",
    "plt.legend(['train', 'val'], loc='upper center')\n",
    "plt.grid()\n",
    "plt.show()\n",
    "\n",
    "# make roc plots for signal\n",
    "print \"roc for sig and bkg\"\n",
    "plt.ylabel('tpr')\n",
    "plt.xlabel('fpr')\n",
    "predictions_dm = model_deep.predict(get_part_feature(x_emu_train, selected_features))\n",
    "fpr_dm, tpr_dm, threshold = roc_curve(y_emu_train, predictions_dm)\n",
    "plt.plot(fpr_dm, tpr_dm)\n",
    "predictions_dm = model_deep.predict(get_part_feature(x_emu_test, selected_features))\n",
    "fpr_dm_test, tpr_dm_test, threshold_test = roc_curve(y_emu_test, predictions_dm)\n",
    "plt.plot(fpr_dm_test, tpr_dm_test)\n",
    "plt.legend(['train', 'test'], loc='lower right')\n",
    "plt.grid()\n",
    "plt.show()\n",
    "print \"auc for train:\", auc(fpr_dm, tpr_dm)\n",
    "print \"auc for test: \", auc(fpr_dm_test, tpr_dm_test)\n",
    "\n",
    "print \"\\nDone.\""
   ]
  },
  {
   "cell_type": "markdown",
   "metadata": {},
   "source": [
    "## x - use 100% -> 1% signal for training\n",
    "number of background events fixed"
   ]
  },
  {
   "cell_type": "code",
   "execution_count": null,
   "metadata": {},
   "outputs": [],
   "source": [
    "#percentage_list = [0.9, 0.8, 0.7, 0.6, 0.5, 0.4, 0.3, 0.2, 0.1]\n",
    "percentage_list = [1]\n",
    "#percentage_list = [0.0001, 0.001, 0.01, 0.1, 0.2, 0.5, 1]\n",
    "#percentage_list = [0.01, 0.1, 0.2, 0.5, 1]\n",
    "\n",
    "selected_features = [0, 1, 2, 3, 5, 6, 7, 15, 16, 17, 18, 19]\n",
    "\n",
    "# training with different percentage of signals\n",
    "for percent in percentage_list:\n",
    "    # set up training model\n",
    "    node_num = 300\n",
    "    model_deep = Sequential()\n",
    "    model_deep.add(Dense(node_num, kernel_initializer='uniform', input_dim = len(selected_features)))\n",
    "    model_deep.add(BatchNormalization())\n",
    "    model_deep.add(Dense(node_num, kernel_initializer=\"glorot_normal\", activation=\"relu\"))\n",
    "    model_deep.add(BatchNormalization())\n",
    "    model_deep.add(Dense(node_num, kernel_initializer=\"glorot_normal\", activation=\"relu\"))\n",
    "    model_deep.add(BatchNormalization())\n",
    "    #\"\"\"\n",
    "    model_deep.add(Dense(node_num, kernel_initializer=\"glorot_normal\", activation=\"relu\"))\n",
    "    model_deep.add(BatchNormalization())\n",
    "    model_deep.add(Dense(node_num, kernel_initializer=\"glorot_normal\", activation=\"relu\"))\n",
    "    model_deep.add(BatchNormalization())\n",
    "    model_deep.add(Dense(node_num, kernel_initializer=\"glorot_normal\", activation=\"relu\"))\n",
    "    model_deep.add(BatchNormalization())\n",
    "    #\"\"\"\n",
    "    model_deep.add(Dense(1, kernel_initializer=\"glorot_uniform\", activation=\"sigmoid\"))\n",
    "    # set loss, optimizer and evaluation metrics\n",
    "    model_deep.compile(loss=\"binary_crossentropy\", optimizer=SGD(lr=0.01, decay=1e-6), metrics=[\"accuracy\"])\n",
    "\n",
    "    # get part of signal events\n",
    "    print \"*\" * 80\n",
    "    print \"use {}% signal for training\".format(percent * 100)\n",
    "    print \"sig events quantity:\", len(xs_emu) * percent\n",
    "    print \"bkg events quantity:\", len(xb_emu)\n",
    "    index_len = int(len(xs_emu) * percent)\n",
    "    index = np.random.choice(xs_emu.shape[0], index_len, replace = False)\n",
    "    xs_emu_part = xs_emu[index]\n",
    "    #print \"debug:\", xs_emu_part[0:5]\n",
    "    print \"debug:\", index[0:10]\n",
    "    print \"debug: \", xs_emu.shape[0], xs_emu_part.shape[0], index_len\n",
    "    \"\"\"\n",
    "    xs_emu_part, x2, y1, y2 = train_test_split(xs_emu, np.ones(len(xs_emu)), \n",
    "                                               test_size= 1 - percent, \n",
    "                                               random_state=3456, shuffle=True)\n",
    "    \"\"\"\n",
    "    xs_emu_part = modify_array(xs_emu_part, weight_id = -1, \n",
    "                               norm = True, shuffle = True)\n",
    "    xb_emu_temp = modify_array(xb_emu, weight_id = -1, mass_id = 0,\n",
    "                               reset_mass = True, reset_mass_array = xs_emu_part, reset_mass_id = 0,\n",
    "                               norm = True, shuffle = True)\n",
    "    \n",
    "    # get training data\n",
    "    x_emu_train, x_emu_test, y_emu_train, y_emu_test, xs_emu_test, xb_emu_test = \\\n",
    "    split_and_combine(xs_emu_part, xb_emu_temp, shuffle_before_return = True)\n",
    "    # get test data\n",
    "    #x1, x_emu_test, y1, y_emu_test, xs_emu_test, xb_emu_test = \\\n",
    "    #split_and_combine(xs_emu_part, xb_emu, shuffle_before_return = True)\n",
    "\n",
    "    # select features wanted\n",
    "    x_emu_train_selected = get_part_feature(x_emu_train, selected_features)\n",
    "    x_emu_test_selected = get_part_feature(x_emu_test, selected_features)\n",
    "    print \"train data shape:\", x_emu_train_selected.shape\n",
    "    print \"test data shape:\", x_emu_test_selected.shape \n",
    "\n",
    "    # train the model\n",
    "    train_history = model_deep.fit(x_emu_train_selected, y_emu_train, batch_size = 100, epochs = 30,\n",
    "                    validation_split = 0.25 , sample_weight = x_emu_train[:, -1], verbose = 1)\n",
    "    score = model_deep.evaluate(x_emu_test_selected, y_emu_test, verbose=0, sample_weight = x_emu_test[:, -1])\n",
    "    print('Test loss:', score[0])\n",
    "    print('Test accuracy:', score[1])\n",
    "\n",
    "    # load test (cross validation) data\n",
    "    xs_emu_test_selected = get_part_feature(xs_emu, selected_features) # use full sample for validation\n",
    "    xb_emu_test_selected = get_part_feature(xb_emu, selected_features) #\n",
    "    \n",
    "    # display scores\n",
    "    plt.hist(xs_emu[:, 0], bins = 100, weights = xs_emu[:, -1], range = (0, 10000), histtype='step', label='signal', density=True)\n",
    "    plt.xlabel(\"mass\")\n",
    "    plt.ylabel(\"events\")\n",
    "    plt.show()\n",
    "    PlotScores(xs_emu_test_selected, xb_emu_test_selected, model_deep, bins = 100, range = (0, 1), density = True)\n",
    "    \n",
    "    # summarize history for accuracy\n",
    "    plt.plot(train_history.history['acc'])\n",
    "    plt.plot(train_history.history['val_acc'])\n",
    "    plt.title('model accuracy')\n",
    "    plt.ylabel('accuracy')\n",
    "    plt.ylim((0, 1))\n",
    "    plt.xlabel('epoch')\n",
    "    plt.legend(['train', 'val'], loc='upper center')\n",
    "    plt.grid()\n",
    "    plt.show()\n",
    "    \n",
    "    # summarize history for loss\n",
    "    plt.plot(train_history.history['loss'])\n",
    "    plt.plot(train_history.history['val_loss'])\n",
    "    plt.title('model loss')\n",
    "    plt.ylabel('loss')\n",
    "    plt.xlabel('epoch')\n",
    "    plt.legend(['train', 'val'], loc='upper center')\n",
    "    plt.grid()\n",
    "    plt.show()\n",
    "    \n",
    "    # make roc plots for signal\n",
    "    print \"roc for sig and bkg\"\n",
    "    plt.ylabel('tpr')\n",
    "    plt.xlabel('fpr')\n",
    "    predictions_dm = model_deep.predict(get_part_feature(x_emu_train, selected_features))\n",
    "    fpr_dm, tpr_dm, threshold = roc_curve(y_emu_train, predictions_dm)\n",
    "    plt.plot(fpr_dm, tpr_dm)\n",
    "    predictions_dm = model_deep.predict(get_part_feature(x_emu_test, selected_features))\n",
    "    fpr_dm_test, tpr_dm_test, threshold_test = roc_curve(y_emu_test, predictions_dm)\n",
    "    plt.plot(fpr_dm_test, tpr_dm_test)\n",
    "    plt.legend(['train', 'test'], loc='lower right')\n",
    "    plt.grid()\n",
    "    plt.show()\n",
    "    print \"auc for train:\", auc(fpr_dm, tpr_dm)\n",
    "    print \"auc for test: \", auc(fpr_dm_test, tpr_dm_test)\n",
    "    \n",
    "    # clear model for next training\n",
    "    K.clear_session()"
   ]
  },
  {
   "cell_type": "markdown",
   "metadata": {},
   "source": [
    "# test area"
   ]
  },
  {
   "cell_type": "code",
   "execution_count": 5,
   "metadata": {},
   "outputs": [
    {
     "name": "stdout",
     "output_type": "stream",
     "text": [
      "{'a': 1, 'b': 2}\n",
      "{'a': 1, 'b': 2}\n",
      "{'a': 100, 'b': 2}\n",
      "10\n"
     ]
    }
   ],
   "source": [
    "test_dict = {}\n",
    "a = 1\n",
    "b = 2\n",
    "test_dict['a'] = a\n",
    "test_dict['b'] = b\n",
    "print test_dict\n",
    "\n",
    "a = 10\n",
    "b = 20\n",
    "print test_dict\n",
    "\n",
    "test_dict['a'] = 100\n",
    "print test_dict\n",
    "print a"
   ]
  },
  {
   "cell_type": "code",
   "execution_count": null,
   "metadata": {},
   "outputs": [],
   "source": []
  }
 ],
 "metadata": {
  "kernelspec": {
   "display_name": "Python 2",
   "language": "python",
   "name": "python2"
  },
  "language_info": {
   "codemirror_mode": {
    "name": "ipython",
    "version": 2
   },
   "file_extension": ".py",
   "mimetype": "text/x-python",
   "name": "python",
   "nbconvert_exporter": "python",
   "pygments_lexer": "ipython2",
   "version": "2.7.15+"
  }
 },
 "nbformat": 4,
 "nbformat_minor": 2
}
