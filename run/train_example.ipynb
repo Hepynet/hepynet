{
 "cells": [
  {
   "cell_type": "markdown",
   "metadata": {},
   "outputs": [],
   "source": [
    "# Training with old ntuple"
   ]
  },
  {
   "cell_type": "markdown",
   "metadata": {},
   "outputs": [],
   "source": [
    "# Prepare"
   ]
  },
  {
   "cell_type": "markdown",
   "metadata": {},
   "outputs": [],
   "source": [
    "## 1 - Load modules"
   ]
  },
  {
   "cell_type": "code",
   "execution_count": 1,
   "metadata": {},
   "outputs": [],
   "source": [
    "%matplotlib inline  # make sure plot shows\n",
    "from lfv_pdnn.data_io.get_arrays import *\n",
    "from lfv_pdnn.train import model\n",
    "from lfv_pdnn.train.train_utils import get_input_array"
   ]
  },
  {
   "cell_type": "code",
   "execution_count": 2,
   "metadata": {},
   "outputs": [],
   "source": [
    "# Constants\n",
    "#old_bkg_path = \"E:/data/lfv/ntuples_last_run/TestData/data_npy\"  # Windows can recognize both \"/\" and \"\\\"\n",
    "old_bkg_path = \"/home/paperspace/data/lfv/data_npy/\"\n",
    "#old_sig_path = \"E:/data/lfv/ntuples_last_run/train_array_0909/data_npy/emu\"\n",
    "old_sig_path = \"/home/paperspace/data/lfv/data_npy/emu\""
   ]
  },
  {
   "cell_type": "markdown",
   "metadata": {},
   "outputs": [],
   "source": [
    "## 2 - Load old array\n",
    "### a) load old background samples"
   ]
  },
  {
   "cell_type": "code",
   "execution_count": 3,
   "metadata": {},
   "outputs": [],
   "source": [
    "xb_dict_old = get_old_bkg(old_bkg_path)"
   ]
  },
  {
   "cell_type": "markdown",
   "metadata": {},
   "outputs": [],
   "source": [
    "### b) load old signal samples"
   ]
  },
  {
   "cell_type": "code",
   "execution_count": 4,
   "metadata": {},
   "outputs": [],
   "source": [
    "xs_dict_old = get_old_sig(old_sig_path)"
   ]
  },
  {
   "cell_type": "markdown",
   "metadata": {},
   "outputs": [],
   "source": [
    "## 1 - Define constants & functions for training."
   ]
  },
  {
   "cell_type": "code",
   "execution_count": 5,
   "metadata": {},
   "outputs": [],
   "source": [
    "print(xb_dict_old.keys())"
   ]
  },
  {
   "cell_type": "code",
   "execution_count": 6,
   "metadata": {},
   "outputs": [],
   "source": [
    "selected_features_emu = [0, 1, 2, 3, 5, 6, 7, 15, 16, 17, 18, 19]\n",
    "selected_features_etau = [0, 1, 2, 3, 9, 10, 11, 13, 14, 15, 16, 17, 18, 19]\n",
    "selected_features_mutau = [0, 5, 6, 7, 9, 10, 11, 13, 14, 15, 16, 17, 18, 19]\n",
    "\n",
    "plot_bkg_list = ['di_boson', 'drell_yan', 'top_quark', 'w_jets', 'z_ll']\n",
    "plot_bkg_dict = {key:xb_dict_old[key] for key in plot_bkg_list}"
   ]
  },
  {
   "cell_type": "markdown",
   "metadata": {},
   "outputs": [],
   "source": [
    "## 2 - Example for using the code"
   ]
  },
  {
   "cell_type": "code",
   "execution_count": 7,
   "metadata": {
    "collapsed": true,
    "jupyter": {
     "outputs_hidden": true
    }
   },
   "outputs": [],
   "source": [
    "# Example for emu channel training:\n",
    "xs, xb = get_input_array(xs_dict_old, '500GeV', xb_dict_old, 'all', -4) # -4 for emu\n",
    "model_deep = model.Model_1016(\"model_test\", len(selected_features_emu))\n",
    "model_deep.prepare_array(xs, xb, selected_features_emu, -4, sig_weight=10000, bkg_weight=10000, test_rate=0.2)\n",
    "model_deep.compile()\n",
    "model_deep.train(batch_size=128, epochs=10, val_split=0.2, sig_class_weight=10., bkg_class_weight=1., verbose=1)\n",
    "#model_deep.save_model()"
   ]
  },
  {
   "cell_type": "code",
   "execution_count": 8,
   "metadata": {
    "collapsed": true,
    "jupyter": {
     "outputs_hidden": true
    }
   },
   "outputs": [],
   "source": [
    "# Example for showing performance\n",
    "model_deep.show_performance(figsize=(16, 8))\n",
    "fig, ax = plt.subplots(ncols=2, figsize=(16, 4))\n",
    "model_deep.plot_scores_separate(ax[0], plot_bkg_dict, plot_bkg_list, selected_features_emu,\n",
    "                                sig_arr=None, sig_weights=None, plot_title='training scores',\n",
    "                                bins=40, range=(-0.25, 1.25), density=True, log=False)\n",
    "model_deep.plot_scores_separate(ax[1], plot_bkg_dict, plot_bkg_list, selected_features_emu,\n",
    "                                sig_arr=None, sig_weights=None, plot_title='training scores',\n",
    "                                bins=40, range=(-0.25, 1.25), density=True, log=True)"
   ]
  },
  {
   "cell_type": "code",
   "execution_count": 12,
   "metadata": {
    "collapsed": true,
    "jupyter": {
     "outputs_hidden": true
    }
   },
   "outputs": [],
   "source": [
    "# Example for loading model and make plots\n",
    "xs, xb = get_input_array(xs_dict_old, '500GeV', xb_dict_old, 'all', -4) # -4 for emu\n",
    "model_load = model.Model_1016(\"model_load_test\", len(selected_features_emu))\n",
    "model_load.prepare_array(xs, xb, selected_features_emu, -4, sig_weight=10000, bkg_weight=10000, test_rate=0.2)\n",
    "model_load.load_model('model_test', model_class='*', date='*', version='')\n",
    "model_load.show_performance(figsize=(16, 8))\n",
    "fig, ax = plt.subplots(ncols=2, figsize=(16, 4))\n",
    "model_load.plot_scores_separate(ax[0], plot_bkg_dict, plot_bkg_list, selected_features_emu,\n",
    "                                sig_arr=None, sig_weights=None, plot_title='training scores',\n",
    "                                bins=40, range=(-0.25, 1.25), density=True, log=False)\n",
    "model_load.plot_scores_separate(ax[1], plot_bkg_dict, plot_bkg_list, selected_features_emu,\n",
    "                                sig_arr=None, sig_weights=None, plot_title='training scores',\n",
    "                                bins=40, range=(-0.25, 1.25), density=True, log=True)"
   ]
  },
  {
   "cell_type": "code",
   "execution_count": null,
   "metadata": {},
   "outputs": [],
   "source": []
  }
 ],
 "metadata": {
  "file_extension": ".py",
  "kernelspec": {
   "display_name": "Python 3",
   "language": "python",
   "name": "python3"
  },
  "language_info": {
   "codemirror_mode": {
    "name": "ipython",
    "version": 3
   },
   "file_extension": ".py",
   "mimetype": "text/x-python",
   "name": "python",
   "nbconvert_exporter": "python",
   "pygments_lexer": "ipython3",
   "version": "3.7.4"
  },
  "mimetype": "text/x-python",
  "name": "python",
  "npconvert_exporter": "python",
  "pygments_lexer": "ipython3",
  "version": 3
 },
 "nbformat": 4,
 "nbformat_minor": 4
}