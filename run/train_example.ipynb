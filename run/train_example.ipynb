{
 "cells": [
  {
   "cell_type": "markdown",
   "metadata": {},
   "source": [
    "# Training example"
   ]
  },
  {
   "cell_type": "markdown",
   "metadata": {},
   "source": [
    "# Prepare"
   ]
  },
  {
   "cell_type": "markdown",
   "metadata": {},
   "source": [
    "## 1 - Load modules"
   ]
  },
  {
   "cell_type": "code",
   "execution_count": null,
   "metadata": {
    "scrolled": true
   },
   "outputs": [],
   "source": [
    "# make sure plot shows\n",
    "%matplotlib inline\n",
    "import matplotlib.pyplot as plt\n",
    "from lfv_pdnn.common import array_utils\n",
    "from lfv_pdnn.data_io import get_arrays\n",
    "from lfv_pdnn.train import model, train_utils"
   ]
  },
  {
   "cell_type": "markdown",
   "metadata": {},
   "source": [
    "## 1 - Define constants & functions for training."
   ]
  },
  {
   "cell_type": "code",
   "execution_count": null,
   "metadata": {
    "scrolled": true
   },
   "outputs": [],
   "source": [
    "selected_features = [\"m_ll\", \"ele_pt\", \"ele_istight\", \"mu_pt\", \"mu_istight\", \"pt_ll\", \"dr_ll\", \"met\", \"njets\"]\n",
    "plot_bkg_list = [\"wjets\", \"diboson\", \"zll\", \"top\"]\n",
    "input_path = \"/data/arrays/rel_103\""
   ]
  },
  {
   "cell_type": "markdown",
   "metadata": {},
   "source": [
    "## 2 - Load & modify arrays"
   ]
  },
  {
   "cell_type": "code",
   "execution_count": null,
   "metadata": {
    "scrolled": true
   },
   "outputs": [],
   "source": [
    "sig_list = [\"rpv_500\", \"rpv_700\", \"rpv_1000\", \"rpv_1500\", \"rpv_2000\"]\n",
    "sig_dict = get_arrays.get_sig(input_path, \"run2\", \"emu\", sig_list, selected_features)\n",
    "\n",
    "bkg_list = [\"diboson\", \"top\", \"wjets\", \"zll\"]\n",
    "bkg_dict = get_arrays.get_bkg(input_path, \"run2\", \"emu\", bkg_list, selected_features)\n"
   ]
  },
  {
   "cell_type": "markdown",
   "metadata": {},
   "source": [
    "## 3 - Example for using the code"
   ]
  },
  {
   "cell_type": "code",
   "execution_count": null,
   "metadata": {
    "scrolled": true
   },
   "outputs": [],
   "source": [
    "# training example\n",
    "model_deep = model.Model_1016(\n",
    "    \"model_test\",\n",
    "    len(selected_features),\n",
    "    learn_rate=0.005,\n",
    "    decay=1e-4,\n",
    "    selected_features=selected_features)\n",
    "xs = array_utils.modify_array(sig_dict[\"all_norm\"], select_channel=True, remove_negative_weight=True)\n",
    "xb = array_utils.modify_array(bkg_dict[\"all\"], select_channel=True, remove_negative_weight=True)\n",
    "model_deep.prepare_array(xs, xb, reset_mass=True, reset_mass_name=\"m_ll\")\n",
    "model_deep.compile()\n",
    "model_deep.train(batch_size=64, epochs=20, val_split=0.2, sig_class_weight=1., bkg_class_weight=1.)\n",
    "model_deep.save_model(save_dir=\".\", file_name=\"model_test\")"
   ]
  },
  {
   "cell_type": "code",
   "execution_count": null,
   "metadata": {
    "scrolled": true
   },
   "outputs": [],
   "source": [
    "# Example for showing performance\n",
    "model_deep.show_performance(figsize=(16, 18))\n",
    "fig, ax = plt.subplots(ncols=2, figsize=(16, 4))\n",
    "model_deep.plot_scores_separate(ax[0], bkg_dict, plot_bkg_list, selected_features,\n",
    "                                sig_arr=None, sig_weights=None, plot_title='training scores',\n",
    "                                bins=40, range=(-0.25, 1.25), density=True, log=False)\n",
    "model_deep.plot_scores_separate(ax[1], bkg_dict, plot_bkg_list, selected_features,\n",
    "                                sig_arr=None, sig_weights=None, plot_title='training scores',\n",
    "                                bins=40, range=(-0.25, 1.25), density=True, log=True)"
   ]
  },
  {
   "cell_type": "code",
   "execution_count": null,
   "metadata": {
    "scrolled": true
   },
   "outputs": [],
   "source": [
    "# Example for loading model and make plots\n",
    "xs = array_utils.modify_array(sig_dict[\"rpv_500\"], select_channel=True, remove_negative_weight=True)\n",
    "xb = array_utils.modify_array(bkg_dict[\"all\"], select_channel=True, remove_negative_weight=True)\n",
    "model_load = model.Model_1016(\n",
    "    \"model_load_test\",\n",
    "    len(selected_features),\n",
    "    learn_rate=0.005,\n",
    "    decay=1e-4,\n",
    "    selected_features=selected_features)\n",
    "model_load.prepare_array(xs, xb, reset_mass=False)\n",
    "model_load.load_model('model_test', dir=\".\")\n",
    "model_load.show_performance(figsize=(16, 18))\n",
    "fig, ax = plt.subplots(ncols=2, figsize=(16, 4))\n",
    "model_load.plot_scores_separate(ax[0], bkg_dict, plot_bkg_list, selected_features,\n",
    "                                sig_arr=None, sig_weights=None, plot_title='training scores',\n",
    "                                bins=40, range=(-0.25, 1.25), density=True, log=False)\n",
    "model_load.plot_scores_separate(ax[1], bkg_dict, plot_bkg_list, selected_features,\n",
    "                                sig_arr=None, sig_weights=None, plot_title='training scores',\n",
    "                                bins=40, range=(-0.25, 1.25), density=True, log=True)"
   ]
  },
  {
   "cell_type": "code",
   "execution_count": null,
   "metadata": {
    "scrolled": true
   },
   "outputs": [],
   "source": []
  }
 ],
 "metadata": {
  "file_extension": ".py",
  "kernelspec": {
   "display_name": "Python 3",
   "language": "python",
   "name": "python3"
  },
  "language_info": {
   "codemirror_mode": {
    "name": "ipython",
    "version": 3
   },
   "file_extension": ".py",
   "mimetype": "text/x-python",
   "name": "python",
   "nbconvert_exporter": "python",
   "pygments_lexer": "ipython3",
   "version": "3.6.9"
  },
  "mimetype": "text/x-python",
  "name": "python",
  "npconvert_exporter": "python",
  "pygments_lexer": "ipython3",
  "version": 3
 },
 "nbformat": 4,
 "nbformat_minor": 4
}
