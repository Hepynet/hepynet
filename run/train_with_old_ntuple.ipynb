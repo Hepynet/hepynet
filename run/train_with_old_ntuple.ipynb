{
 "cells": [
  {
   "cell_type": "markdown",
   "metadata": {},
   "source": [
    "# Training with old ntuple"
   ]
  },
  {
   "cell_type": "markdown",
   "metadata": {},
   "source": [
    "# Prepare"
   ]
  },
  {
   "cell_type": "markdown",
   "metadata": {},
   "source": [
    "## 1 - Load modules"
   ]
  },
  {
   "cell_type": "code",
   "execution_count": 1,
   "metadata": {},
   "outputs": [
    {
     "name": "stderr",
     "output_type": "stream",
     "text": [
      "Using TensorFlow backend.\n"
     ]
    }
   ],
   "source": [
    "from lfv_pdnn_code_v1.data_io.get_arrays import *\n",
    "from lfv_pdnn_code_v1.train import model"
   ]
  },
  {
   "cell_type": "code",
   "execution_count": 4,
   "metadata": {},
   "outputs": [],
   "source": [
    "# Constants\n",
    "old_bkg_path = \"E:/data/lfv/ntuples_last_run/TestData/data_npy\"  # Windows can recognize both \"/\" and \"\\\"\n",
    "#old_bkg_path = \"/home/yangz/analysis/lfv/pDNN-Code-for-LFV-v1.0/npys/old/data_npy\"\n",
    "old_sig_path = \"E:/data/lfv/ntuples_last_run/train_array_0909/data_npy/emu\"\n",
    "#old_sig_path = \"/home/yangz/analysis/lfv/pDNN-Code-for-LFV-v1.0/npys/old/data_npy/emu\""
   ]
  },
  {
   "cell_type": "markdown",
   "metadata": {},
   "source": [
    "## 2 - Load old array\n",
    "### a) load old background samples"
   ]
  },
  {
   "cell_type": "code",
   "execution_count": 5,
   "metadata": {},
   "outputs": [
    {
     "name": "stdout",
     "output_type": "stream",
     "text": [
      "Loading new background array.\n",
      "Organizing new background with dict: xb_dict_old.\n",
      "Done.\n"
     ]
    }
   ],
   "source": [
    "xb_dict_old = get_old_bkg(old_bkg_path)"
   ]
  },
  {
   "cell_type": "markdown",
   "metadata": {},
   "source": [
    "### b) load old signal samples"
   ]
  },
  {
   "cell_type": "code",
   "execution_count": 6,
   "metadata": {},
   "outputs": [
    {
     "name": "stdout",
     "output_type": "stream",
     "text": [
      "Loading old signal array.\n",
      "Organizing old signal with dict: xs_dict_old.\n",
      "Done.\n"
     ]
    }
   ],
   "source": [
    "xs_dict_old = get_old_sig(old_sig_path)"
   ]
  },
  {
   "cell_type": "markdown",
   "metadata": {},
   "source": [
    "## 1 - Define constants & functions for training."
   ]
  },
  {
   "cell_type": "code",
   "execution_count": 7,
   "metadata": {},
   "outputs": [
    {
     "name": "stdout",
     "output_type": "stream",
     "text": [
      "dict_keys(['di_boson', 'drell_yan', 'top_quark', 'w_jets', 'z_ll', 'all'])\n"
     ]
    }
   ],
   "source": [
    "print(xb_dict_old.keys())"
   ]
  },
  {
   "cell_type": "code",
   "execution_count": 8,
   "metadata": {},
   "outputs": [],
   "source": [
    "selected_features_emu = [0, 1, 2, 3, 5, 6, 7, 15, 16, 17, 18, 19]\n",
    "selected_features_etau = [0, 1, 2, 3, 9, 10, 11, 13, 14, 15, 16, 17, 18, 19]\n",
    "selected_features_mutau = [0, 5, 6, 7, 9, 10, 11, 13, 14, 15, 16, 17, 18, 19]\n",
    "\n",
    "plot_bkg_list = ['di_boson', 'drell_yan', 'top_quark', 'w_jets', 'z_ll']\n",
    "plot_bkg_dict = {key:xb_dict_old[key] for key in plot_bkg_list}"
   ]
  },
  {
   "cell_type": "markdown",
   "metadata": {},
   "source": [
    "## 2 - Example for using the code"
   ]
  },
  {
   "cell_type": "code",
   "execution_count": 9,
   "metadata": {},
   "outputs": [
    {
     "name": "stdout",
     "output_type": "stream",
     "text": [
      "Training array prepared.\n",
      "> signal shape: (24810, 12)\n",
      "> background shape: (152506, 12)\n",
      "Training start. Using model: model_test\n",
      "Model info: New model structure based on 1002's model at Oct. 16th 2019 to deal with training with full bkg mass.\n",
      "Train on 31916 samples, validate on 3547 samples\n",
      "Epoch 1/3\n",
      "31916/31916 [==============================] - 5s 146us/step - loss: 0.1301 - plain_acc: 0.1623 - accuracy: 0.8680 - val_loss: 0.0801 - val_plain_acc: 0.0000e+00 - val_accuracy: 0.0000e+00\n",
      "Epoch 2/3\n",
      "31916/31916 [==============================] - 3s 79us/step - loss: 0.0719 - plain_acc: 0.2202 - accuracy: 0.9433 - val_loss: 0.0558 - val_plain_acc: 0.1211 - val_accuracy: 0.8116\n",
      "Epoch 3/3\n",
      "31916/31916 [==============================] - 2s 76us/step - loss: 0.0540 - plain_acc: 0.2532 - accuracy: 0.9729 - val_loss: 0.0384 - val_plain_acc: 0.1336 - val_accuracy: 0.8755\n",
      "Training finished.\n",
      "Quick evaluation:\n",
      "141853/141853 [==============================] - 12s 88us/step\n",
      "> test loss: 0.0372061970413577\n",
      "> test accuracy: 0.2459203451871872\n",
      "model: model_test has been saved to: ./models/model_test_mod1016_2019-10-31_v00.h5\n",
      "model parameters has been saved to: ./models/model_test_mod1016_2019-10-31_v00_paras.json\n"
     ]
    }
   ],
   "source": [
    "# Example for emu channel training:\n",
    "xs, xb = get_input_array(xs_dict_old, '500GeV', xb_dict_old, 'all', -4) # -4 for emu\n",
    "model_deep = model.Model_1016(\"model_test\", len(selected_features_emu))\n",
    "model_deep.prepare_array(xs, xb, selected_features_emu, -4, sig_weight=10000, bkg_weight=10000, test_rate=0.2)\n",
    "model_deep.compile()\n",
    "model_deep.train(batch_size=128, epochs=3, val_split=0.1, sig_class_weight=6., bkg_class_weight=1., verbose=1)\n",
    "model_deep.save_model()"
   ]
  },
  {
   "cell_type": "code",
   "execution_count": null,
   "metadata": {},
   "outputs": [],
   "source": [
    "# Example for showing performance\n",
    "model_deep.show_performance(figsize=(16, 8))\n",
    "fig, ax = plt.subplots(ncols=2, figsize=(16, 4))\n",
    "model_deep.plot_scores_separate(ax[0], plot_bkg_dict, plot_bkg_list, selected_features_emu,\n",
    "                                sig_arr=None, sig_weights=None, plot_title='training scores',\n",
    "                                bins=40, range=(-0.25, 1.25), density=True, log=False)\n",
    "model_deep.plot_scores_separate(ax[1], plot_bkg_dict, plot_bkg_list, selected_features_emu,\n",
    "                                sig_arr=None, sig_weights=None, plot_title='training scores',\n",
    "                                bins=40, range=(-0.25, 1.25), density=True, log=True)"
   ]
  },
  {
   "cell_type": "code",
   "execution_count": null,
   "metadata": {},
   "outputs": [],
   "source": [
    "# Example for loading model and make plots\n",
    "xs, xb = get_input_array(xs_dict_old, '500GeV', xb_dict_old, 'all', -4) # -4 for emu\n",
    "model_load = model.Model_1016(\"model_load_test\", len(selected_features_emu))\n",
    "model_load.prepare_array(xs, xb, selected_features_emu, -4, sig_weight=10000, bkg_weight=10000, test_rate=0.2)\n",
    "model_load.load_model('model_test', model_class='*', date='2019-10-30', version='')\n",
    "model_load.show_performance(figsize=(16, 8))\n",
    "fig, ax = plt.subplots(ncols=2, figsize=(16, 4))\n",
    "model_load.plot_scores_separate(ax[0], plot_bkg_dict, plot_bkg_list, selected_features_emu,\n",
    "                                sig_arr=None, sig_weights=None, plot_title='training scores',\n",
    "                                bins=40, range=(-0.25, 1.25), density=True, log=False)\n",
    "model_load.plot_scores_separate(ax[1], plot_bkg_dict, plot_bkg_list, selected_features_emu,\n",
    "                                sig_arr=None, sig_weights=None, plot_title='training scores',\n",
    "                                bins=40, range=(-0.25, 1.25), density=True, log=True)"
   ]
  },
  {
   "cell_type": "markdown",
   "metadata": {},
   "source": [
    "### A) mass = 500 GeV"
   ]
  },
  {
   "cell_type": "markdown",
   "metadata": {},
   "source": [
    "#### a) old ntuple\n",
    "[emu]"
   ]
  },
  {
   "cell_type": "code",
   "execution_count": null,
   "metadata": {},
   "outputs": [],
   "source": [
    "model_500_old = train_single_mass(xs_dict_old, xb_dict_old, 'emu', -4, '500GeV', \"model_mass_500_emu\", batch_size=64, epochs=30,lr_rate=0.1, dec=0.00005,\n",
    "                                  selected_features = selected_features_emu, select_bkg_mass = False, bs_weight_ratio=5.)"
   ]
  },
  {
   "cell_type": "markdown",
   "metadata": {},
   "source": [
    "*************************\n",
    "[etau]"
   ]
  },
  {
   "cell_type": "code",
   "execution_count": null,
   "metadata": {},
   "outputs": [],
   "source": [
    "train_single_mass(xs_dict_old, xb_dict_old, 'etau', -3, '500GeV', \"model_mass_500_etau\", epochs=30, selected_features = selected_features_etau)"
   ]
  },
  {
   "cell_type": "markdown",
   "metadata": {},
   "source": [
    "**********\n",
    "[mutau]"
   ]
  },
  {
   "cell_type": "code",
   "execution_count": null,
   "metadata": {},
   "outputs": [],
   "source": [
    "train_single_mass(xs_dict_old, xb_dict_old, 'mutau', -2, '500GeV', \"model_mass_500_mutau\", epochs=30, selected_features = selected_features_mutau)"
   ]
  },
  {
   "cell_type": "markdown",
   "metadata": {},
   "source": [
    "### B) mass = 1000 GeV"
   ]
  },
  {
   "cell_type": "code",
   "execution_count": null,
   "metadata": {},
   "outputs": [],
   "source": [
    "model_1000_old = train_single_mass(xs_dict_old, xb_dict_old, 'emu', -4, '1000GeV', \"model_mass_1000_emu\", batch_size=128, epochs=20,lr_rate=0.3, dec=0.0005,\n",
    "                                  selected_features = selected_features_emu, select_bkg_mass = False, bs_weight_ratio=30.)"
   ]
  },
  {
   "cell_type": "markdown",
   "metadata": {},
   "source": [
    "### C) mass = 2000 GeV"
   ]
  },
  {
   "cell_type": "markdown",
   "metadata": {},
   "source": [
    "#### a) old ntuple\n",
    "[emu]"
   ]
  },
  {
   "cell_type": "code",
   "execution_count": null,
   "metadata": {},
   "outputs": [],
   "source": [
    "model_2000_old = train_single_mass(xs_dict_old, xb_dict_old, 'emu', -4, '2000GeV', \"model_mass_2000_emu\", batch_size=128, epochs=20,lr_rate=0.3, dec=0.0005,\n",
    "                                  selected_features = selected_features_emu, select_bkg_mass = False, bs_weight_ratio=100.)"
   ]
  },
  {
   "cell_type": "markdown",
   "metadata": {},
   "source": [
    "*********\n",
    "[etau] "
   ]
  },
  {
   "cell_type": "code",
   "execution_count": null,
   "metadata": {},
   "outputs": [],
   "source": [
    "train_single_mass(xs_dict_old, xb_dict_old, 'etau', -3, '2000GeV', \"model_mass_2000_etau\", epochs=30, \n",
    "                  selected_features = selected_features_etau, select_bkg_mass = True,\n",
    "                  self_defined_mass = False, minm = 1800, maxm = 2200)"
   ]
  },
  {
   "cell_type": "markdown",
   "metadata": {},
   "source": [
    "*********\n",
    "[mutau]"
   ]
  },
  {
   "cell_type": "code",
   "execution_count": null,
   "metadata": {},
   "outputs": [],
   "source": [
    "train_single_mass(xs_dict_old, xb_dict_old, 'mutau', -2, '2000GeV', \"model_mass_2000_mutau\", epochs=30, selected_features = selected_features_mutau)"
   ]
  },
  {
   "cell_type": "markdown",
   "metadata": {},
   "source": [
    "## 2 - Train with 500 GeV mass point and full mass point (use old ntuple)"
   ]
  },
  {
   "cell_type": "markdown",
   "metadata": {},
   "source": [
    "### A) Train with 500 GeV single mass point\n",
    "#### a) emu"
   ]
  },
  {
   "cell_type": "code",
   "execution_count": null,
   "metadata": {},
   "outputs": [],
   "source": [
    "model_single = train_single_mass(xs_dict_old, xb_dict_old, 'emu', -4, '500GeV', \"model_mass_500_emu_single\", epochs=30, \n",
    "                                 selected_features = selected_features_emu, select_bkg_mass = True)"
   ]
  },
  {
   "cell_type": "markdown",
   "metadata": {},
   "source": [
    "### B) Train with full mass point"
   ]
  },
  {
   "cell_type": "code",
   "execution_count": null,
   "metadata": {},
   "outputs": [],
   "source": [
    "model_total = train_single_mass(xs_dict_old, xb_dict_old, 'emu', -4, 'all', \"model_mass_all_emu\", epochs=30, \n",
    "                                 selected_features = selected_features_emu, select_bkg_mass = True)"
   ]
  },
  {
   "cell_type": "markdown",
   "metadata": {},
   "source": [
    "### B1) Train with full mass point, normalized before adding all mass point samples"
   ]
  },
  {
   "cell_type": "code",
   "execution_count": null,
   "metadata": {},
   "outputs": [],
   "source": [
    "# Example for emu channel:\n",
    "xs, xb = get_input_array(xs_dict_old, 'all_norm', xb_dict_old, 'all', -4) # -4 for emu\n",
    "model_deep = model.Model_1016(\"model_name\", len(selected_features_emu))\n",
    "model_deep.prepare_array(xs, xb, selected_features_emu, -4, sig_weight=100000, bkg_weight=100000, test_rate=0.2)\n",
    "model_deep.compile()\n",
    "model_deep.train(batch_size=128, epochs=5, val_split=0.1, sig_class_weight=20., bkg_class_weight=1., verbose=1)\n",
    "model_deep.save_model(\"./model/model_all_norm.h5\")\n",
    "model_deep.show_performance(figsize=(16, 8))\n",
    "fig, ax = plt.subplots(ncols=2, figsize=(16, 4))\n",
    "_ = model_deep.plot_scores_separate(ax[0], plot_bkg_dict, plot_bkg_list, selected_features_emu,\n",
    "                                    sig_arr=None, sig_weights=None, plot_title='training scores',\n",
    "                                    bins=40, range=(-0.25, 1.25), density=True, log=False)\n",
    "_ = model_deep.plot_scores_separate(ax[1], plot_bkg_dict, plot_bkg_list, selected_features_emu,\n",
    "                                    sig_arr=None, sig_weights=None, plot_title='training scores',\n",
    "                                    bins=40, range=(-0.25, 1.25), density=True, log=True)"
   ]
  },
  {
   "cell_type": "markdown",
   "metadata": {},
   "source": [
    "### B2) Train with min 1500 GeV"
   ]
  },
  {
   "cell_type": "code",
   "execution_count": null,
   "metadata": {},
   "outputs": [],
   "source": [
    "model_min_1500_norm = train_single_mass(xs_dict_old, xb_dict_old, 'emu', -4, 'min_1500', \"model_mass_all_emu\", batch_size=128, epochs=15,lr_rate=0.2, dec=0.00006,\n",
    "                                  selected_features = selected_features_emu, select_bkg_mass = False, bs_weight_ratio=50.)"
   ]
  },
  {
   "cell_type": "markdown",
   "metadata": {},
   "source": []
  },
  {
   "cell_type": "markdown",
   "metadata": {},
   "source": [
    "### B3) Train with max 2400 GeV, normalized before adding signal samples together"
   ]
  },
  {
   "cell_type": "code",
   "execution_count": null,
   "metadata": {},
   "outputs": [],
   "source": [
    "model_max_2400_norm = train_single_mass(xs_dict_old, xb_dict_old, 'emu', -4, 'max_2400_norm', \"model_max_2400_norm\", epochs=30, \n",
    "                                 selected_features = selected_features_emu, select_bkg_mass = True)"
   ]
  },
  {
   "cell_type": "markdown",
   "metadata": {},
   "source": [
    "### B4) train with 3-point (normalized before add)\n",
    "train with 500, 1000, 2000GeV"
   ]
  },
  {
   "cell_type": "code",
   "execution_count": null,
   "metadata": {},
   "outputs": [],
   "source": [
    "model_3_point_norm = train_single_mass(xs_dict_old, xb_dict_old, 'emu', -4, '3point', \"model_3_point_norm\", batch_size=128, epochs=30,lr_rate=0.5, dec=0.0003,\n",
    "                                  selected_features = selected_features_emu, select_bkg_mass = False, bs_weight_ratio=8.)"
   ]
  },
  {
   "cell_type": "markdown",
   "metadata": {},
   "source": [
    "### B4) train with 4-point (normalized before add)\n",
    "train with 500, 700, 1000, 2000GeV"
   ]
  },
  {
   "cell_type": "code",
   "execution_count": null,
   "metadata": {},
   "outputs": [],
   "source": [
    "model_4_point_norm = train_single_mass(xs_dict_old, xb_dict_old, 'emu', -4, '4point', \"model_4_point_norm\", batch_size=128, epochs=30,lr_rate=0.5, dec=0.0003,\n",
    "                                  selected_features = selected_features_emu, select_bkg_mass = False, bs_weight_ratio=8.)"
   ]
  },
  {
   "cell_type": "markdown",
   "metadata": {},
   "source": [
    "## 4 Plot auc vs mass (with full mass train & 3-point mass train)\n",
    "### A) Use model_total_norm (full mass train)\n",
    "use mass +- 50GeV bin "
   ]
  },
  {
   "cell_type": "code",
   "execution_count": null,
   "metadata": {
    "jupyter": {
     "source_hidden": true
    }
   },
   "outputs": [],
   "source": [
    "mass_map = [500, 700, 800, 900, 1000, 1100, 1200, 1300, 1400, 1500, 1600, 1700, 1800, 1900, 2000, 2200, 2400, 2600, 2800, 3000, 3500, 4000, 4500, 5000]\n",
    "mass_map_test = [500, 700, 1000, 1500, 2000, 3000, 5000]\n",
    "\n",
    "model_list = [model_500_old, model_2000_old, model_3_point_norm, model_total_norm]\n",
    "\n",
    "#model_used = model_total_norm\n",
    "#model_used = model_3_point_norm\n",
    "\n",
    "# plot bkg scores with separately\n",
    "bkg_plot_dict_emu = {}\n",
    "for bkg_key in bkg_list:\n",
    "    xb_emu_temp = modify_array(xb_dict_old[bkg_key], weight_id = -1, remove_negative_weight = True, select_channel = True, channel_id = -3,\n",
    "                  select_mass = False, reset_mass = False, norm = False, shuffle = False)\n",
    "    bkg_plot_dict_emu[bkg_key] = xb_emu_temp\n",
    "    \n",
    "\n",
    "fig, ax = plt.subplots(nrows=4, ncols=7, figsize=(16, 9))\n",
    "##\n",
    "for i, mass in enumerate(mass_map_test):\n",
    "    for j in range(4):\n",
    "        model_used = model_list[j]\n",
    "        mass_name = \"{}GeV\".format(mass)\n",
    "        sig_plot_emu = xs_dict_old[mass_name].copy()\n",
    "        sig_plot_emu = modify_array(sig_plot_emu, weight_id=-1, norm=True)\n",
    "        average = model_used.norm_average\n",
    "        variance = model_used.norm_variance\n",
    "        sig_plot_emu[:, 0:-2] = norarray(sig_plot_emu[:, 0:-2], average=average, variance=variance)\n",
    "        sig_plot_emu_selected = get_part_feature(sig_plot_emu, selected_features_emu)\n",
    "\n",
    "        ax[j,i].hist(model_used.get_model().predict(sig_plot_emu_selected), bins=50, \n",
    "                range=(-0.2, 1.2), weights=sig_plot_emu[:, -1], histtype='step', label='signal', density=True)\n",
    "        ax[j,i].set_title(mass_name)\n",
    "        ax[j,i].legend(loc='upper center')\n",
    "        ax[j,i].set_xlabel(\"Output score\")\n",
    "        ax[j,i].set_ylabel(\"arb. unit\")\n",
    "        ax[j,i].grid()\n",
    "plt.show()"
   ]
  },
  {
   "cell_type": "markdown",
   "metadata": {},
   "source": [
    "### B) Use model_3_point_norm (3-point mass train)\n",
    "use mass +- 50GeV bin "
   ]
  },
  {
   "cell_type": "code",
   "execution_count": null,
   "metadata": {
    "jupyter": {
     "source_hidden": true
    }
   },
   "outputs": [],
   "source": [
    "model_used = model_3_point_norm\n",
    "\n",
    "mass_list = []\n",
    "auc_list = []\n",
    "for i in range(0, 16):\n",
    "    mass = i * 100 + 500\n",
    "    mass_min = mass - 50\n",
    "    mass_max = mass + 50\n",
    "    xs_emu = modify_array(xs_dict_old['all'], weight_id = -1, select_channel = True, channel_id = -4,\n",
    "                          select_mass = True, mass_id = 0, mass_min = mass_min, mass_max = mass_max)\n",
    "    xb_emu = modify_array(xb_dict_old['all'], weight_id = -1, select_channel = True, channel_id = -4,\n",
    "                          select_mass = True, mass_id = 0, mass_min = mass_min, mass_max = mass_max)\n",
    "    xs_emu_selected = get_part_feature(xs_emu, selected_features_emu)\n",
    "    xb_emu_selected = get_part_feature(xb_emu, selected_features_emu)\n",
    "    ys_emu = np.ones(len(xs_emu_selected))\n",
    "    yb_emu = np.zeros(len(xb_emu_selected))\n",
    "    x_emu = np.concatenate((xs_emu_selected, xb_emu_selected))\n",
    "    y_emu = np.concatenate((ys_emu, yb_emu))\n",
    "    predicti_y = model_used.get_model().predict(x_emu)\n",
    "    fpr, tpr, threshold = roc_curve(y_emu, predicti_y)\n",
    "    auc_value = auc(fpr, tpr)\n",
    "    mass_list.append(mass)\n",
    "    auc_list.append(auc_value)\n",
    "plt.plot(mass_list, auc_list)\n",
    "plt.ylim((0, 1))\n",
    "plt.xlabel(\"mass GeV\")\n",
    "plt.ylabel(\"auc\")\n",
    "plt.show()"
   ]
  },
  {
   "cell_type": "markdown",
   "metadata": {},
   "source": [
    "### B) Use model_4_point_norm (4-point mass train)\n",
    "use mass +- 50GeV bin "
   ]
  },
  {
   "cell_type": "code",
   "execution_count": null,
   "metadata": {
    "jupyter": {
     "source_hidden": true
    }
   },
   "outputs": [],
   "source": [
    "model_used = model_4_point_norm\n",
    "\n",
    "mass_list = []\n",
    "auc_list = []\n",
    "for i in range(0, 16):\n",
    "    mass = i * 100 + 500\n",
    "    mass_min = mass - 50\n",
    "    mass_max = mass + 50\n",
    "    xs_emu = modify_array(xs_dict_old['all'], weight_id = -1, select_channel = True, channel_id = -4,\n",
    "                          select_mass = True, mass_id = 0, mass_min = mass_min, mass_max = mass_max)\n",
    "    xb_emu = modify_array(xb_dict_old['all'], weight_id = -1, select_channel = True, channel_id = -4,\n",
    "                          select_mass = True, mass_id = 0, mass_min = mass_min, mass_max = mass_max)\n",
    "    xs_emu_selected = get_part_feature(xs_emu, selected_features_emu)\n",
    "    xb_emu_selected = get_part_feature(xb_emu, selected_features_emu)\n",
    "    ys_emu = np.ones(len(xs_emu_selected))\n",
    "    yb_emu = np.zeros(len(xb_emu_selected))\n",
    "    x_emu = np.concatenate((xs_emu_selected, xb_emu_selected))\n",
    "    y_emu = np.concatenate((ys_emu, yb_emu))\n",
    "    predicti_y = model_used.get_model().predict(x_emu)\n",
    "    fpr, tpr, threshold = roc_curve(y_emu, predicti_y)\n",
    "    auc_value = auc(fpr, tpr)\n",
    "    mass_list.append(mass)\n",
    "    auc_list.append(auc_value)\n",
    "plt.plot(mass_list, auc_list)\n",
    "plt.ylim((0, 1))\n",
    "plt.xlabel(\"mass GeV\")\n",
    "plt.ylabel(\"auc\")\n",
    "plt.show()"
   ]
  },
  {
   "cell_type": "markdown",
   "metadata": {},
   "source": [
    "# test area"
   ]
  },
  {
   "cell_type": "code",
   "execution_count": 3,
   "metadata": {},
   "outputs": [
    {
     "name": "stdout",
     "output_type": "stream",
     "text": [
      "['C:\\\\Users\\\\yz622\\\\OneDrive - mail.ustc.edu.cn\\\\Analysis\\\\LFV\\\\Code\\\\pDNN\\\\pDNN-Code-for-LFV-v1.0\\\\run', 'C:\\\\Users\\\\yz622\\\\AppData\\\\Local\\\\Programs\\\\Python\\\\Python37', 'C:\\\\Users\\\\yz622\\\\AppData\\\\Local\\\\Programs\\\\Python\\\\Python37\\\\Lib', 'C:\\\\Users\\\\yz622\\\\AppData\\\\Local\\\\Programs\\\\Python\\\\Python37\\\\DLLs', 'C:\\\\Users\\\\yz622\\\\AppData\\\\Local\\\\Programs\\\\Python\\\\Python37-32', 'C:\\\\Users\\\\yz622\\\\AppData\\\\Local\\\\Programs\\\\Python\\\\Python37-32\\\\Lib', 'C:\\\\Users\\\\yz622\\\\AppData\\\\Local\\\\Programs\\\\Python\\\\Python37-32\\\\DLLs', 'C:\\\\Python27', 'C:\\\\Python27\\\\Lib', 'C:\\\\Python27\\\\DLLs', 'C:\\\\Users\\\\yz622\\\\OneDrive - mail.ustc.edu.cn\\\\Analysis\\\\LFV\\\\Code\\\\pDNN\\\\pDNN-Code-for-LFV-v1.0\\\\run\\\\%PYTHONPATH%', 'C:\\\\Users\\\\yz622\\\\OneDrive - mail.ustc.edu.cn\\\\Analysis\\\\LFV\\\\Code\\\\pDNN\\\\pDNN-Code-for-LFV-v1.0\\\\run\\\\%ROOTSYS%\\\\bin', 'C:\\\\root_v5.34.38\\\\bin', 'C:\\\\root_v6.18.00\\\\bin', 'C:\\\\Users\\\\yz622\\\\OneDrive - mail.ustc.edu.cn\\\\Analysis\\\\LFV\\\\Code\\\\pDNN\\\\pDNN-Code-for-LFV-v1.0\\\\run', 'C:\\\\Users\\\\yz622\\\\OneDrive - mail.ustc.edu.cn\\\\Analysis\\\\LFV\\\\Code\\\\pDNN\\\\pDNN-Code-for-LFV-v1.0', 'C:\\\\Users\\\\yz622\\\\Miniconda3\\\\envs\\\\pdnn\\\\python37.zip', 'C:\\\\Users\\\\yz622\\\\Miniconda3\\\\envs\\\\pdnn\\\\DLLs', 'C:\\\\Users\\\\yz622\\\\Miniconda3\\\\envs\\\\pdnn\\\\lib', 'C:\\\\Users\\\\yz622\\\\Miniconda3\\\\envs\\\\pdnn', '', 'C:\\\\Users\\\\yz622\\\\AppData\\\\Roaming\\\\Python\\\\Python37\\\\site-packages', 'C:\\\\Users\\\\yz622\\\\Miniconda3\\\\envs\\\\pdnn\\\\lib\\\\site-packages', 'C:\\\\Users\\\\yz622\\\\Miniconda3\\\\envs\\\\pdnn\\\\lib\\\\site-packages\\\\win32', 'C:\\\\Users\\\\yz622\\\\Miniconda3\\\\envs\\\\pdnn\\\\lib\\\\site-packages\\\\win32\\\\lib', 'C:\\\\Users\\\\yz622\\\\Miniconda3\\\\envs\\\\pdnn\\\\lib\\\\site-packages\\\\Pythonwin', 'C:\\\\Users\\\\yz622\\\\Miniconda3\\\\envs\\\\pdnn\\\\lib\\\\site-packages\\\\IPython\\\\extensions', 'C:\\\\Users\\\\yz622\\\\.ipython']\n"
     ]
    }
   ],
   "source": [
    "import sys\n",
    "print (sys.path)"
   ]
  },
  {
   "cell_type": "code",
   "execution_count": null,
   "metadata": {},
   "outputs": [],
   "source": []
  }
 ],
 "metadata": {
  "file_extension": ".py",
  "kernelspec": {
   "display_name": "Python 3",
   "language": "python",
   "name": "python3"
  },
  "language_info": {
   "codemirror_mode": {
    "name": "ipython",
    "version": 3
   },
   "file_extension": ".py",
   "mimetype": "text/x-python",
   "name": "python",
   "nbconvert_exporter": "python",
   "pygments_lexer": "ipython3",
   "version": "3.7.4"
  },
  "mimetype": "text/x-python",
  "name": "python",
  "npconvert_exporter": "python",
  "pygments_lexer": "ipython3",
  "version": 3
 },
 "nbformat": 4,
 "nbformat_minor": 4
}
